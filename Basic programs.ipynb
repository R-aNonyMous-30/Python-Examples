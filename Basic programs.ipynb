{
 "cells": [
  {
   "cell_type": "markdown",
   "metadata": {},
   "source": [
    "# Python Programs (Basic Level)"
   ]
  },
  {
   "cell_type": "markdown",
   "metadata": {},
   "source": [
    "### 1) Write a program to convert given temperature in Celisius to Fahrenheit and vice-versa"
   ]
  },
  {
   "cell_type": "code",
   "execution_count": 2,
   "metadata": {},
   "outputs": [
    {
     "name": "stdout",
     "output_type": "stream",
     "text": [
      "Enter the temperature: 123c\n",
      "Given temperature: 123c converted into 50.56F\n"
     ]
    }
   ],
   "source": [
    "T=input(\"Enter the temperature: \")\n",
    "d=\"FfCc\"\n",
    "v=float(T[0:-1])\n",
    "D=T[-1]\n",
    "if(D in d):\n",
    "    if(D==\"f\" or D==\"F\"):\n",
    "        c=(v-32)*5.0/9.0\n",
    "        print(\"Given temperature: {} converted into %0.2fC\".format(T)%c)\n",
    "    else:\n",
    "        f=9.0/5.0*v+32\n",
    "        print(\"Given temperature: {} converted into %0.2fF\".format(T)%c)\n",
    "else:\n",
    "    print(\"Not entered in Celisius or Fahrenheit\")"
   ]
  },
  {
   "cell_type": "markdown",
   "metadata": {},
   "source": [
    "### 2) Calculate Simple Interest and Compound Interest for given Principal, Rate of interest and Duration in Years"
   ]
  },
  {
   "cell_type": "code",
   "execution_count": 2,
   "metadata": {},
   "outputs": [
    {
     "name": "stdout",
     "output_type": "stream",
     "text": [
      "Enter Principal Amount: 123\n",
      "Enter the Rate of Interest: 4\n",
      "Enter no. of Years:2\n",
      "Simple Interest: 9.84\n",
      "Compund Interest: 10.036800000000014\n"
     ]
    }
   ],
   "source": [
    "import math\n",
    "p,r,t=float(input(\"Enter Principal Amount: \")),float(input(\"Enter the Rate of Interest: \")),int(input(\"Enter no. of Years:\"))\n",
    "si=(p*t*r)/100\n",
    "print('Simple Interest:',si)\n",
    "ci=p*(math.pow((1+r/100),t)-1)\n",
    "print('Compund Interest:',ci)"
   ]
  },
  {
   "cell_type": "markdown",
   "metadata": {},
   "source": [
    "### 3) Swap 2 variables without and with 3rd variable"
   ]
  },
  {
   "cell_type": "code",
   "execution_count": 3,
   "metadata": {},
   "outputs": [
    {
     "name": "stdout",
     "output_type": "stream",
     "text": [
      "Program to swap m and n: \n",
      "Enter a value: 1\n",
      "Enter another value: 2\n",
      "Before swapping values are m = 1 and n= 2\n",
      "After swapping values are m = 2 and n = 1\n",
      "Program to swap m and n: \n",
      "Enter a value: 3 \n",
      "Enter another value: 2\n",
      "Before swapping values are m = 3 and n= 2\n",
      "After swapping values are m = 2 and n = 3\n"
     ]
    }
   ],
   "source": [
    "print(\"Program to swap m and n: \")\n",
    "m=int(input(\"Enter a value: \"))\n",
    "n=int(input(\"Enter another value: \"))\n",
    "print(\"Before swapping values are m = {} and n= {}\".format(m,n))\n",
    "m=m+n\n",
    "n=m-n\n",
    "m=m-n\n",
    "print(\"After swapping values are m = {} and n = {}\".format(m,n))\n",
    "# Using 3rd variable\n",
    "print(\"Program to swap m and n: \")\n",
    "m=int(input(\"Enter a value: \"))\n",
    "n=int(input(\"Enter another value: \"))\n",
    "print(\"Before swapping values are m = {} and n= {}\".format(m,n))\n",
    "p,m=m,n\n",
    "n=p\n",
    "print(\"After swapping values are m = {} and n = {}\".format(m,n))"
   ]
  },
  {
   "cell_type": "markdown",
   "metadata": {},
   "source": [
    "### 4) Print unit digit of any given number"
   ]
  },
  {
   "cell_type": "code",
   "execution_count": 4,
   "metadata": {},
   "outputs": [
    {
     "name": "stdout",
     "output_type": "stream",
     "text": [
      "Enter an integer number: 123\n",
      "Unit digit is 3\n"
     ]
    }
   ],
   "source": [
    "i=int(input(\"Enter an integer number: \"))\n",
    "print(\"Unit digit is\",i%10)"
   ]
  },
  {
   "cell_type": "markdown",
   "metadata": {},
   "source": [
    "### 5) Area of triangle when 3 sides are given"
   ]
  },
  {
   "cell_type": "code",
   "execution_count": 3,
   "metadata": {},
   "outputs": [
    {
     "name": "stdout",
     "output_type": "stream",
     "text": [
      "Enter a: 12\n",
      "Enter b: 23\n",
      "Enter c: 12\n",
      "Area of given triangle is 39.420013952306\n"
     ]
    }
   ],
   "source": [
    "# We are using Heron's formula i.e; s=(a+b+c)/2 and Area=sqrt(s(s-a)(s-b)(s-c))\n",
    "import math as mt\n",
    "a,b,c=int(input(\"Enter a: \")),int(input(\"Enter b: \")),int(input(\"Enter c: \"))\n",
    "s=float(a+b+c)/2\n",
    "A=mt.sqrt(s*(s-a)*(s-b)*(s-c))\n",
    "print(\"Area of given triangle is\",A)"
   ]
  },
  {
   "cell_type": "markdown",
   "metadata": {},
   "source": [
    "### 6) Body mass index of a person determined by his weight and height"
   ]
  },
  {
   "cell_type": "code",
   "execution_count": 12,
   "metadata": {},
   "outputs": [
    {
     "name": "stdout",
     "output_type": "stream",
     "text": [
      "Enter height of person: 1.5\n",
      "Enter weight of person:50\n",
      "The bmi index is 22.22222222222222 and you are normal weight\n"
     ]
    }
   ],
   "source": [
    "## bmi=m/(h*h)\n",
    "h=float(input(\"Enter height of person: \"))\n",
    "w=int(input(\"Enter weight of person:\"))\n",
    "bmi=w/(h*h)\n",
    "if bmi<18.5:\n",
    "    print(\"The bmi index is {} and you are under weight\".format(bmi))\n",
    "elif bmi>=18.5 and bmi<25:\n",
    "    print(\"The bmi index is {} and you are normal weight\".format(bmi))\n",
    "elif bmi>=25 and bmi<30:\n",
    "    print(\"The bmi index is {} and you are over weight\".format(bmi))\n",
    "else:\n",
    "    print(\"The bmi index is {} and you are obese\".format(bmi))"
   ]
  },
  {
   "cell_type": "markdown",
   "metadata": {},
   "source": [
    "### 7)Whether given year is leap year or not"
   ]
  },
  {
   "cell_type": "code",
   "execution_count": 19,
   "metadata": {},
   "outputs": [
    {
     "name": "stdout",
     "output_type": "stream",
     "text": [
      "Enter an year: 100\n",
      "Given year 100 is not a Leap year\n"
     ]
    }
   ],
   "source": [
    "year=int(input(\"Enter an year: \"))\n",
    "if((year%4==0) and (year%100!= 0)or(year%400 == 0)):\n",
    "    print(\"Given year {} is a Leap year\".format(year))\n",
    "else:\n",
    "    print(\"Given year {} is not a Leap year\".format(year))"
   ]
  },
  {
   "cell_type": "markdown",
   "metadata": {},
   "source": [
    "### 8) Roots of given Quadratic Equation"
   ]
  },
  {
   "cell_type": "code",
   "execution_count": null,
   "metadata": {},
   "outputs": [
    {
     "name": "stdout",
     "output_type": "stream",
     "text": [
      "Enter values of a,b,c below\n",
      "Enter 'a' value: 5\n",
      "Enter 'b' value: 8\n"
     ]
    }
   ],
   "source": [
    "import math as m\n",
    "import cmath as cm\n",
    "print(\"Enter values of a,b,c below\")\n",
    "a=float(input(\"Enter 'a' value: \"))\n",
    "if a != 0:\n",
    "    b=float(input(\"Enter 'b' value: \"))\n",
    "    c=float(input(\"Enter 'c' value: \"))\n",
    "    d=(b*b - 4*(a*c))\n",
    "    if(d>0):\n",
    "        r1=(-b+m.sqrt(d)/(2*a))\n",
    "        r2=(-b-m.sqrt(d)/(2*a))\n",
    "        print(\"Roots are real and distant\")\n",
    "        print(\"Roots are {}  and {}\".format(r1,r2))\n",
    "    elif(d==0):\n",
    "        r1=r2=-b/(2*a)\n",
    "        print(\"Roots are real and equal\")\n",
    "        print(\"Root is {}\".format(r1))\n",
    "    else:\n",
    "        r1=-b/(2*a)\n",
    "        r2=cm.sqrt(m.fabs(-d)/(2*a))\n",
    "        print(\"Roots are imaginary\")\n",
    "        print(\"Root are {}+{} and and {}-{}\".format(r1,r2,r1,r2))\n",
    "else:\n",
    "    print(\"The equation given is not quadratic\")"
   ]
  },
  {
   "cell_type": "markdown",
   "metadata": {},
   "source": [
    "### 9) Largest of 3 numbers "
   ]
  },
  {
   "cell_type": "code",
   "execution_count": 9,
   "metadata": {},
   "outputs": [
    {
     "name": "stdout",
     "output_type": "stream",
     "text": [
      "Value of 'a': 1\n",
      "Value of 'b': 2\n",
      "Value of 'c': 3\n",
      "The largest of the 3 numbers: 3\n"
     ]
    }
   ],
   "source": [
    "a,b,c=int(input(\"Value of 'a': \")),int(input(\"Value of 'b': \")),int(input(\"Value of 'c': \"))\n",
    "if a>b:\n",
    "    max=a\n",
    "else:\n",
    "    max=b\n",
    "if c>max:\n",
    "    max=c\n",
    "print(\"The largest of the 3 numbers: {}\".format(max))"
   ]
  },
  {
   "cell_type": "markdown",
   "metadata": {},
   "source": [
    "### 10) Finding percentage and grade of a student"
   ]
  },
  {
   "cell_type": "code",
   "execution_count": 20,
   "metadata": {},
   "outputs": [
    {
     "name": "stdout",
     "output_type": "stream",
     "text": [
      "Enter total marks: 700\n",
      "First class with Distinction\n"
     ]
    }
   ],
   "source": [
    "tot=int(input(\"Enter total marks: \"))\n",
    "per=(tot*100)/600\n",
    "if per<35:\n",
    "    print(\"Failure\")\n",
    "elif per>=35 and per <50:\n",
    "    print(\"Passed\")\n",
    "elif per>=50 and per <60:\n",
    "    print(\"Second Division\")\n",
    "elif per>=60 and per<70:\n",
    "    print(\"First Division\")\n",
    "else:\n",
    "    print(\"First class with Distinction\")"
   ]
  },
  {
   "cell_type": "markdown",
   "metadata": {},
   "source": [
    "### 11) Repetition Statements"
   ]
  },
  {
   "cell_type": "markdown",
   "metadata": {},
   "source": [
    "##### While Loop"
   ]
  },
  {
   "cell_type": "code",
   "execution_count": 13,
   "metadata": {},
   "outputs": [
    {
     "name": "stdout",
     "output_type": "stream",
     "text": [
      "Enter name: ka\n",
      "If names of students are entered press 'N' or else tpe 'Y'\n",
      "\n",
      "Enter name: n\n",
      "If names of students are entered press 'N' or else tpe 'Y'\n",
      "n\n"
     ]
    }
   ],
   "source": [
    "while True:\n",
    "    name=input(\"Enter name: \")\n",
    "    print(\"If names of students are entered press 'N' or else tpe 'Y'\")\n",
    "    ans=input()\n",
    "    if (ans==\"n\" or ans==\"N\"):\n",
    "        break"
   ]
  },
  {
   "cell_type": "markdown",
   "metadata": {},
   "source": [
    "### 11) Factorial program"
   ]
  },
  {
   "cell_type": "code",
   "execution_count": 4,
   "metadata": {},
   "outputs": [
    {
     "name": "stdout",
     "output_type": "stream",
     "text": [
      "Enter a number: 40\n",
      "40! = 815915283247897734345611269596115894272000000000\n",
      "0\n"
     ]
    }
   ],
   "source": [
    "n=int(input(\"Enter a number: \"))\n",
    "f,c=1,1\n",
    "if n<0:\n",
    "    print(\"Factorial of {} does not exist\".format(n))\n",
    "elif n==0:\n",
    "    print(\"0! = 1\")\n",
    "else:\n",
    "    while c<=n:\n",
    "        f=f*c\n",
    "        c=c+1\n",
    "    print(\"{}! = {}\".format(n,f))\n",
    "print(f%108)    "
   ]
  },
  {
   "cell_type": "markdown",
   "metadata": {},
   "source": [
    "### 12)Prime number or not"
   ]
  },
  {
   "cell_type": "code",
   "execution_count": 28,
   "metadata": {},
   "outputs": [
    {
     "name": "stdout",
     "output_type": "stream",
     "text": [
      "Enter a number: 1234567897\n",
      "Given number 1234567897 is not prime\n"
     ]
    }
   ],
   "source": [
    "n=int(input(\"Enter a number: \"))\n",
    "d=2\n",
    "p=True\n",
    "while d<=n/2:\n",
    "    if n%d==0:\n",
    "        p=False\n",
    "        print(\"Given number {} is not prime\".format(n))\n",
    "        break\n",
    "    d +=1\n",
    "if p:\n",
    "    print(\"Given number {} is prime\".format(n))"
   ]
  },
  {
   "cell_type": "markdown",
   "metadata": {},
   "source": [
    "### 13) Fibonacci Series"
   ]
  },
  {
   "cell_type": "code",
   "execution_count": 31,
   "metadata": {},
   "outputs": [
    {
     "name": "stdout",
     "output_type": "stream",
     "text": [
      "Enter a number: 12\n",
      "0 1 1 2 3 5 8 13 21 34 55 89 "
     ]
    }
   ],
   "source": [
    "n=int(input(\"Enter a number: \"))\n",
    "i,f1,f2=0,0,1\n",
    "while i<n:\n",
    "    if i<=1:\n",
    "        f=i\n",
    "    else:\n",
    "        f=f1+f2\n",
    "        f1=f2\n",
    "        f2=f\n",
    "    i=i+1\n",
    "    print(f,end=' ')"
   ]
  },
  {
   "cell_type": "markdown",
   "metadata": {},
   "source": [
    "### 14) Palindrome or Not"
   ]
  },
  {
   "cell_type": "code",
   "execution_count": 34,
   "metadata": {},
   "outputs": [
    {
     "name": "stdout",
     "output_type": "stream",
     "text": [
      "Enter a number : 12345654321\n",
      "The number 12345654321 is palindrome\n"
     ]
    }
   ],
   "source": [
    "n=int(input(\"Enter a number : \"))\n",
    "r,t=0,n\n",
    "while(t>0):\n",
    "    r=(10*r)+t%10\n",
    "    t=t//10\n",
    "if r==n:\n",
    "    print(\"The number {} is palindrome\".format(n))\n",
    "else:\n",
    "    print(\"The number {} is not palindrome\".format(n))"
   ]
  },
  {
   "cell_type": "code",
   "execution_count": 36,
   "metadata": {},
   "outputs": [
    {
     "name": "stdout",
     "output_type": "stream",
     "text": [
      "Enter a string or number to check as a palindrome : 1234321\n",
      "1234321 is a palindrome\n"
     ]
    }
   ],
   "source": [
    "s=input(\"Enter a string or number to check as a palindrome : \")\n",
    "s1=s[::-1]\n",
    "if s==s1:\n",
    "    print(\"{} is a palindrome\".format(s))\n",
    "else:\n",
    "    print(\"{} is not a palindrome\".format(s))"
   ]
  },
  {
   "cell_type": "markdown",
   "metadata": {},
   "source": [
    "### 15) Armstrong or Not"
   ]
  },
  {
   "cell_type": "code",
   "execution_count": null,
   "metadata": {},
   "outputs": [],
   "source": [
    "n=int(input(\"Enter a number : \"))\n",
    "d,s,temp=0,0,n\n",
    "while temp!=0:\n",
    "    d=temp%10\n",
    "    s+=d*d*d\n",
    "    temp//=10\n",
    "if n==s:\n",
    "    print(\"{} is armstrong number\".format(n))\n",
    "else:\n",
    "    print(\"{} is not armstrong number\".format(n))"
   ]
  },
  {
   "cell_type": "markdown",
   "metadata": {},
   "source": [
    "### 16) Decimal to Binary Program"
   ]
  },
  {
   "cell_type": "code",
   "execution_count": 5,
   "metadata": {},
   "outputs": [
    {
     "name": "stdout",
     "output_type": "stream",
     "text": [
      "Enter a decimal number: 2048\n",
      "In Binary: 100000000000\n"
     ]
    }
   ],
   "source": [
    "dec=int(input(\"Enter a decimal number: \"))\n",
    "pos,bin,n=1,0,dec\n",
    "while(n!=0):\n",
    "    rem=n%2\n",
    "    bin=bin+rem*pos\n",
    "    n=n//2\n",
    "    pos=pos*10\n",
    "print(\"In Binary: {}\".format(bin))"
   ]
  },
  {
   "cell_type": "markdown",
   "metadata": {},
   "source": [
    "### 17) Binary to Decimal Program"
   ]
  },
  {
   "cell_type": "code",
   "execution_count": 21,
   "metadata": {},
   "outputs": [
    {
     "name": "stdout",
     "output_type": "stream",
     "text": [
      "Enter a binary number : 1002\n",
      "2\n"
     ]
    }
   ],
   "source": [
    "import math as mt\n",
    "bin=int(input(\"Enter a binary number : \"))\n",
    "dec=0\n",
    "b=\"01\"\n",
    "b1=str(bin)\n",
    "raise_to=0\n",
    "n=bin\n",
    "for i in range(len(b1)):\n",
    "    if b1[i] in b:\n",
    "        rem=n%10\n",
    "        dec=dec+int(rem*mt.pow(2,raise_to))\n",
    "        n//=10\n",
    "        raise_to+=1\n",
    "print(dec)"
   ]
  },
  {
   "cell_type": "markdown",
   "metadata": {},
   "source": [
    "### 18) Find pythogorean triplet upto given maximum value"
   ]
  },
  {
   "cell_type": "code",
   "execution_count": 1,
   "metadata": {},
   "outputs": [
    {
     "name": "stdout",
     "output_type": "stream",
     "text": [
      "Enter the max vaue upto which triplets must form: 20\n",
      "3,4,5\n",
      "5,12,13\n",
      "6,8,10\n",
      "8,15,17\n",
      "9,12,15\n",
      "12,16,20\n"
     ]
    }
   ],
   "source": [
    "n=int(input(\"Enter the max vaue upto which triplets must form: \"))\n",
    "for a in range(1,n-1):\n",
    "    for b in range(a+1,n):\n",
    "        for c in range(b+1,n+1):\n",
    "            if(a*a+b*b==c*c):\n",
    "                print(a,b,c)"
   ]
  },
  {
   "cell_type": "markdown",
   "metadata": {},
   "source": [
    "### 19) FInd the square and cube for a given number"
   ]
  },
  {
   "cell_type": "code",
   "execution_count": 11,
   "metadata": {},
   "outputs": [
    {
     "name": "stdout",
     "output_type": "stream",
     "text": [
      "Enter a number: 1234123\n",
      "1234123 ^2 =1523059579129\n",
      "1234123 ^3 =1879642856973418867\n"
     ]
    }
   ],
   "source": [
    "def sqr(n):\n",
    "    return n*n\n",
    "def cube(n):\n",
    "    return n*n*n\n",
    "i=int(input(\"Enter a number: \"))\n",
    "print(\"{} ^2 ={}\".format(i,sqr(i)))\n",
    "print(\"{} ^3 ={}\".format(i,cube(i)))"
   ]
  },
  {
   "cell_type": "code",
   "execution_count": null,
   "metadata": {},
   "outputs": [],
   "source": []
  }
 ],
 "metadata": {
  "kernelspec": {
   "display_name": "Python 3",
   "language": "python",
   "name": "python3"
  },
  "language_info": {
   "codemirror_mode": {
    "name": "ipython",
    "version": 3
   },
   "file_extension": ".py",
   "mimetype": "text/x-python",
   "name": "python",
   "nbconvert_exporter": "python",
   "pygments_lexer": "ipython3",
   "version": "3.7.3"
  }
 },
 "nbformat": 4,
 "nbformat_minor": 2
}
